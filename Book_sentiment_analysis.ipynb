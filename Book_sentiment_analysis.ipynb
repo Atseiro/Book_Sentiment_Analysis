{
 "cells": [
  {
   "cell_type": "code",
   "execution_count": null,
   "id": "0793c1f3",
   "metadata": {},
   "outputs": [],
   "source": [
    "print(\"git clone\")"
   ]
  }
 ],
 "metadata": {
  "kernelspec": {
   "display_name": "venv",
   "language": "python",
   "name": "python3"
  },
  "language_info": {
   "name": "python",
   "version": "3.11.9"
  }
 },
 "nbformat": 4,
 "nbformat_minor": 5
}
