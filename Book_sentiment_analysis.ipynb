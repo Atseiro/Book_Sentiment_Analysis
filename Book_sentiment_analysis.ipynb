{
 "cells": [
  {
   "cell_type": "markdown",
   "id": "a91d5353",
   "metadata": {},
   "source": [
    "### \n",
    "\n",
    "In this notebook, we are working with text data from six books. Three of these books are authored by Immanuel Kant, and the other three are authored by Friedrich Nietzsche. The books are sourced from **Project Gutenberg**, a website that provides free access to books in the public domain. The books are downloaded in **Plain Text UTF-8** format, which ensures compatibility with text processing tools and preserves special characters. "
   ]
  },
  {
   "cell_type": "markdown",
   "id": "7009a0d5",
   "metadata": {},
   "source": [
    "1. Preprocessing the Texts\n"
   ]
  },
  {
   "cell_type": "code",
   "execution_count": 3,
   "id": "c3d6455c",
   "metadata": {},
   "outputs": [
    {
     "name": "stdout",
     "output_type": "stream",
     "text": [
      "this ebook was prepared by matthew stapleton 1785 fundamental principles of the metaphysic of morals by immanuel kant translated by thomas kingsmill abbott preface ancient greek philosophy was divided into three sciences physics ethics and logic this division is perfectly suitable to the nature of the thing and the only improvement that can be made in it is to add the principle on which it is based so that we may both satisfy ourselves of its completeness and also be able to determine correctly \n"
     ]
    }
   ],
   "source": [
    "import re\n",
    "\n",
    "def clean_gutenberg_text(text):\n",
    "    start_match = re.search(r\"\\*\\*\\* START OF THE PROJECT GUTENBERG EBOOK .*? \\*\\*\\*\\n\", text)\n",
    "    start_index = start_match.end() if start_match else 0\n",
    "\n",
    "    end_match = re.search(r\"\\n\\*\\*\\* END OF THE PROJECT GUTENBERG EBOOK .*\", text)\n",
    "    end_index = end_match.start() if end_match else len(text)\n",
    "\n",
    "    text = text[start_index:end_index].strip()\n",
    "    text = text.lower()\n",
    "    text = re.sub(r\"[^a-z0-9\\s'\\\"]+\", \" \", text)\n",
    "    text = re.sub(r\"\\s+\", \" \", text)\n",
    "\n",
    "    return text.strip()\n",
    "\n",
    "# Example usage\n",
    "with open(\"books/Kant/Book1.txt\", \"r\", encoding=\"utf-8\") as file:\n",
    "    raw_text = file.read()\n",
    "\n",
    "cleaned_text = clean_gutenberg_text(raw_text)\n",
    "\n",
    "# Print a preview of the cleaned text\n",
    "print(cleaned_text[:500])\n"
   ]
  },
  {
   "cell_type": "code",
   "execution_count": 10,
   "id": "0793c1f3",
   "metadata": {},
   "outputs": [],
   "source": [
    "books_content = {\n",
    "    \"Kant_Book1\": open(\"books/Kant/Book1.txt\", \"r\", encoding=\"utf-8\").read(),\n",
    "    \"Kant_Book2\": open(\"books/Kant/Book2.txt\", \"r\", encoding=\"utf-8\").read(),\n",
    "    \"Kant_Book3\": open(\"books/Kant/Book3.txt\", \"r\", encoding=\"utf-8\").read(),\n",
    "    \"Nietzsche_Book1\": open(\"books/Nietzsche/Book1.txt\", \"r\", encoding=\"utf-8\").read(),\n",
    "    \"Nietzsche_Book2\": open(\"books/Nietzsche/Book2.txt\", \"r\", encoding=\"utf-8\").read(),\n",
    "    \"Nietzsche_Book3\": open(\"books/Nietzsche/Book3.txt\", \"r\", encoding=\"utf-8\").read(),\n",
    "}"
   ]
  },
  {
   "cell_type": "code",
   "execution_count": null,
   "id": "5ee1ac63",
   "metadata": {},
   "outputs": [],
   "source": []
  }
 ],
 "metadata": {
  "kernelspec": {
   "display_name": "venv",
   "language": "python",
   "name": "python3"
  },
  "language_info": {
   "codemirror_mode": {
    "name": "ipython",
    "version": 3
   },
   "file_extension": ".py",
   "mimetype": "text/x-python",
   "name": "python",
   "nbconvert_exporter": "python",
   "pygments_lexer": "ipython3",
   "version": "3.11.9"
  }
 },
 "nbformat": 4,
 "nbformat_minor": 5
}
